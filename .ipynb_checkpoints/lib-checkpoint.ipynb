{
 "cells": [
  {
   "cell_type": "code",
   "execution_count": 2,
   "id": "2321df22",
   "metadata": {},
   "outputs": [],
   "source": [
    "import pandas_datareader as pdr\n",
    "import numpy as np\n",
    "import pandas as pd\n",
    "from sklearn.linear_model import LinearRegression\n",
    "import matplotlib.pyplot as plt\n",
    "import dataframe_image as dfi\n",
    "import seaborn as sns\n",
    "from pylab import *\n",
    "\n",
    "#lobf(x) function returns the slope of the line of best fit using OLS with input of pandas series\n",
    "def lobf(x):\n",
    "    line_fitter = LinearRegression()\n",
    "    line_fitter.fit(np.array(x.index).reshape(-1 , 1), x.values)\n",
    "    return line_fitter.coef_"
   ]
  }
 ],
 "metadata": {
  "kernelspec": {
   "display_name": "Python 3 (ipykernel)",
   "language": "python",
   "name": "python3"
  },
  "language_info": {
   "codemirror_mode": {
    "name": "ipython",
    "version": 3
   },
   "file_extension": ".py",
   "mimetype": "text/x-python",
   "name": "python",
   "nbconvert_exporter": "python",
   "pygments_lexer": "ipython3",
   "version": "3.9.7"
  }
 },
 "nbformat": 4,
 "nbformat_minor": 5
}
